{
 "cells": [
  {
   "cell_type": "code",
   "execution_count": 4,
   "metadata": {},
   "outputs": [
    {
     "data": {
      "text/plain": [
       "['Snake is the most', 'is the most poisonous', 'the most poisonous animals']"
      ]
     },
     "execution_count": 4,
     "metadata": {},
     "output_type": "execute_result"
    }
   ],
   "source": [
    "import re\n",
    "def generate_ngrams(text,n): \n",
    "    # split sentences into tokens\n",
    "    tokens=re.split(\"\\\\s+\",text)\n",
    "    ngrams=[] \n",
    "    # collect the n-grams\n",
    "    for i in range(len(tokens)-n+1):\n",
    "    \ttemp=[tokens[j] for j in range(i,i+n)]\n",
    "    \tngrams.append(\" \".join(temp)) \n",
    "    return ngrams\n",
    "\n",
    "generate_ngrams('Snake is the most poisonous animals', 4)"
   ]
  }
 ],
 "metadata": {
  "kernelspec": {
   "display_name": "Python 3",
   "language": "python",
   "name": "python3"
  },
  "language_info": {
   "codemirror_mode": {
    "name": "ipython",
    "version": 3
   },
   "file_extension": ".py",
   "mimetype": "text/x-python",
   "name": "python",
   "nbconvert_exporter": "python",
   "pygments_lexer": "ipython3",
   "version": "3.7.3"
  }
 },
 "nbformat": 4,
 "nbformat_minor": 2
}
